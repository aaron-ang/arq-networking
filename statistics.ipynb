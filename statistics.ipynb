{
 "cells": [
  {
   "cell_type": "code",
   "execution_count": null,
   "metadata": {},
   "outputs": [],
   "source": [
    "import matplotlib.pyplot as plt\n",
    "import numpy as np"
   ]
  },
  {
   "cell_type": "code",
   "execution_count": null,
   "metadata": {},
   "outputs": [],
   "source": [
    "loss = [0.1, 0.2, 0.3, 0.4, 0.5]\n",
    "corruption = [0.1, 0.2, 0.3, 0.4, 0.5]\n",
    "seeds = [1, 5, 10, 15, 20]\n",
    "\n",
    "# Average Performance for SR\n",
    "# Calculated with variable loss and constant corruption = 0.\n",
    "# Calculating results using different seeds.\n",
    "rtt_loss_01s = [0.824, 0.848, 0.808, 0.773, 0.817]\n",
    "time_loss_01s = [1.007, 1.032, 0.986, 0.925, 0.977]\n",
    "\n",
    "rtt_loss_02s = [0.859, 0.857, 0.863, 0.804, 0.930]\n",
    "time_loss_02s = [1.261, 1.265, 1.308, 1.225, 1.275]\n",
    "\n",
    "rtt_loss_03s = [0.935, 0.940, 0.919, 0.988, 1.034]\n",
    "time_loss_03s = [1.619, 1.616, 1.692, 1.684, 1.707]\n",
    "\n",
    "rtt_loss_04s = [1.100, 1.146, 1.200, 1.208, 1.183]\n",
    "time_loss_04s = [2.206, 2.166, 2.421, 2.242, 2.169]\n",
    "\n",
    "rtt_loss_05s = [3.140, 3.144, 4.436, 4.073, 3.476]\n",
    "time_loss_05s = [6.437, 5.797, 7.086, 6.448, 6.193]\n",
    "\n",
    "rtt_means = [\n",
    "    np.mean(rtt_loss_01s),\n",
    "    np.mean(rtt_loss_02s),\n",
    "    np.mean(rtt_loss_03s),\n",
    "    np.mean(rtt_loss_04s),\n",
    "    np.mean(rtt_loss_05s),\n",
    "]\n",
    "rtt_sds = [\n",
    "    np.std(rtt_loss_01s),\n",
    "    np.std(rtt_loss_02s),\n",
    "    np.std(rtt_loss_03s),\n",
    "    np.std(rtt_loss_04s),\n",
    "    np.std(rtt_loss_05s),\n",
    "]\n",
    "rtt_ci = st.norm.interval(\n",
    "    alpha=0.9, loc=np.mean(rtt_means), scale=st.sem(rtt_means), confidence=0.9\n",
    ")\n",
    "\n",
    "time_means = [\n",
    "    np.mean(time_loss_01s),\n",
    "    np.mean(time_loss_02s),\n",
    "    np.mean(time_loss_03s),\n",
    "    np.mean(time_loss_04s),\n",
    "    np.mean(time_loss_05s),\n",
    "]\n",
    "time_sds = [\n",
    "    np.std(time_loss_01s),\n",
    "    np.std(time_loss_02s),\n",
    "    np.std(time_loss_03s),\n",
    "    np.std(time_loss_04s),\n",
    "    np.std(time_loss_05s),\n",
    "]\n",
    "time_ci = st.norm.interval(alpha=0.9, loc=np.mean(time_means), scale=st.sem(time_means))"
   ]
  },
  {
   "cell_type": "code",
   "execution_count": null,
   "metadata": {},
   "outputs": [],
   "source": [
    "plt.title(\"RTT against Loss for SR\")\n",
    "plt.ylabel(\"RTT (ms)\")\n",
    "plt.xlabel(\"Loss (percentage)\")\n",
    "plt.errorbar(loss, rtt_means, rtt_sds, marker=\"^\")\n",
    "plt.fill_between(loss, rtt_ci[0], rtt_ci[1], color='b', alpha=.1)\n",
    "plt.show()"
   ]
  },
  {
   "cell_type": "code",
   "execution_count": null,
   "metadata": {},
   "outputs": [],
   "source": [
    "plt.title(\"Communication Time against Loss for SR\")\n",
    "plt.ylabel(\"Communication Time (ms)\")\n",
    "plt.xlabel(\"Loss (percentage)\")\n",
    "plt.errorbar(loss, time_means, time_sds, marker=\"^\")\n",
    "plt.fill_between(loss, time_ci[0], time_ci[1], color='b', alpha=.1)\n",
    "plt.show()"
   ]
  },
  {
   "cell_type": "code",
   "execution_count": null,
   "metadata": {},
   "outputs": [],
   "source": [
    "# Average Performance for SR\n",
    "# Calculated with variable corruption and constant loss = 0.\n",
    "# Calculating results using different seeds.\n",
    "rtt_corruption_01s = [1.467, 1.486, 1.457, 1.398, 1.523]\n",
    "time_corruption_01s = [1.824, 1.806, 1.846, 1.731, 1.900]\n",
    "\n",
    "rtt_corruption_02s = [1.544, 1.534, 1.655, 1.585, 1.478]\n",
    "time_corruption_02s = [2.500, 2.454, 2.506, 2.377, 2.361]\n",
    "\n",
    "rtt_corruption_03s = [1.813, 1.869, 1.700, 1.688, 1.758]\n",
    "time_corruption_03s = [3.437, 3.277, 3.364, 3.205, 3.145]\n",
    "\n",
    "rtt_corruption_04s = [2.111, 2.423, 2.135, 2.290, 2.292]\n",
    "time_corruption_04s = [4.736, 4.577, 4.401, 4.463, 4.545]\n",
    "\n",
    "rtt_corruption_05s = [3.816, 3.575, 3.927, 4.534, 3.752]\n",
    "time_corruption_05s = [7.429, 6.787, 7.057, 7.400, 6.953]\n",
    "\n",
    "rtt_means = [np.mean(rtt_corruption_01s), np.mean(rtt_corruption_02s), np.mean(rtt_corruption_03s), np.mean(rtt_corruption_04s), np.mean(rtt_corruption_05s)]\n",
    "rtt_sds = [np.std(rtt_corruption_01s), np.std(rtt_corruption_02s), np.std(rtt_corruption_03s), np.std(rtt_corruption_04s), np.std(rtt_corruption_05s)]\n",
    "rtt_ci = st.norm.interval(alpha=0.9, loc=np.mean(rtt_means), scale=st.sem(rtt_means))\n",
    "\n",
    "time_means = [np.mean(time_corruption_01s), np.mean(time_corruption_02s), np.mean(time_corruption_03s), np.mean(time_corruption_04s), np.mean(time_corruption_05s)]\n",
    "time_sds = [np.std(time_corruption_01s), np.std(time_corruption_02s), np.std(time_corruption_03s), np.std(time_corruption_04s), np.std(time_corruption_05s)]\n",
    "time_ci = st.norm.interval(alpha=0.9, loc=np.mean(time_means), scale=st.sem(time_means))"
   ]
  },
  {
   "cell_type": "code",
   "execution_count": null,
   "metadata": {},
   "outputs": [],
   "source": [
    "plt.title(\"RTT against Corruption for SR\")\n",
    "plt.ylabel(\"RTT (ms)\")\n",
    "plt.xlabel(\"Corruption (percentage)\")\n",
    "plt.errorbar(corruption, rtt_means, rtt_sds, marker=\"^\")\n",
    "plt.fill_between(corruption, rtt_ci[0], rtt_ci[1], color='b', alpha=.1)\n",
    "plt.show()"
   ]
  },
  {
   "cell_type": "code",
   "execution_count": null,
   "metadata": {},
   "outputs": [],
   "source": [
    "plt.title(\"Communication Time against Corruption for SR\")\n",
    "plt.ylabel(\"Communication Time (ms)\")\n",
    "plt.xlabel(\"Corruption (percentage)\")\n",
    "plt.errorbar(corruption, time_means, time_sds, marker=\"^\")\n",
    "plt.fill_between(corruption, time_ci[0], time_ci[1], color='b', alpha=.1)\n",
    "plt.show()"
   ]
  },
  {
   "cell_type": "code",
   "execution_count": null,
   "metadata": {},
   "outputs": [],
   "source": [
    "loss = [0.1, 0.2, 0.3, 0.4, 0.5]\n",
    "corruption = [0.1, 0.2, 0.3, 0.4, 0.5]\n",
    "seeds = [1, 5, 10, 15, 20]\n",
    "\n",
    "# Average Performance for GBN\n",
    "# Calculated with variable loss and constant corruption = 0.\n",
    "# Calculating results using different seeds.\n",
    "rtt_loss_01s = [0.029, 0.025, 0.028, 0.024, 0.031]\n",
    "time_loss_01s = [0.034, 0.032, 0.034, 0.033, 0.032]\n",
    "\n",
    "rtt_loss_02s = [0.023, 0.032, 0.023, 0.043, 0.032]\n",
    "time_loss_02s = [0.033, 0.033, 0.034, 0.043, 0.035]\n",
    "\n",
    "rtt_loss_03s = [0.031, 0.045, 0.044, 0.034, 0.029]\n",
    "time_loss_03s = [0.060, 0.066, 0.069, 0.059, 0.055]\n",
    "\n",
    "rtt_loss_04s = [0.035, 0.034, 0.033, 0.035, 0.038]\n",
    "time_loss_04s = [0.082, 0.087, 0.089, 0.091, 0.090]\n",
    "\n",
    "rtt_loss_05s = [0.035, 0.039, 0.033, 0.040, 0.033]\n",
    "time_loss_05s = [0.109, 0.100, 0.109, 0.110, 0.109]\n",
    "\n",
    "rtt_means = [np.mean(rtt_loss_01s), np.mean(rtt_loss_02s), np.mean(rtt_loss_03s), np.mean(rtt_loss_04s), np.mean(rtt_loss_05s)]\n",
    "rtt_sds = [np.std(rtt_loss_01s), np.std(rtt_loss_02s), np.std(rtt_loss_03s), np.std(rtt_loss_04s), np.std(rtt_loss_05s)]\n",
    "rtt_ci = st.norm.interval(alpha=0.9, loc=np.mean(rtt_means), scale=st.sem(rtt_means))\n",
    "\n",
    "time_means = [np.mean(time_loss_01s), np.mean(time_loss_02s), np.mean(time_loss_03s), np.mean(time_loss_04s), np.mean(time_loss_05s)]\n",
    "time_sds = [np.std(time_loss_01s), np.std(time_loss_02s), np.std(time_loss_03s), np.std(time_loss_04s), np.std(time_loss_05s)]\n",
    "time_ci = st.norm.interval(alpha=0.9, loc=np.mean(time_means), scale=st.sem(time_means))"
   ]
  },
  {
   "cell_type": "code",
   "execution_count": null,
   "metadata": {},
   "outputs": [],
   "source": [
    "plt.title(\"RTT against Loss for GBN\")\n",
    "plt.ylabel(\"RTT (ms)\")\n",
    "plt.xlabel(\"Loss (percentage)\")\n",
    "plt.errorbar(loss, rtt_means, rtt_sds, marker=\"^\")\n",
    "plt.fill_between(loss, rtt_ci[0], rtt_ci[1], color='b', alpha=.1)\n",
    "plt.show()"
   ]
  },
  {
   "cell_type": "code",
   "execution_count": null,
   "metadata": {},
   "outputs": [],
   "source": [
    "plt.title(\"Communication Time against Loss for GBN\")\n",
    "plt.ylabel(\"Communication Time (ms)\")\n",
    "plt.xlabel(\"Loss (percentage)\")\n",
    "plt.errorbar(loss, time_means, time_sds, marker=\"^\")\n",
    "plt.fill_between(loss, time_ci[0], time_ci[1], color='b', alpha=.1)\n",
    "plt.show()"
   ]
  },
  {
   "cell_type": "code",
   "execution_count": null,
   "metadata": {},
   "outputs": [],
   "source": [
    "# Average Performance for GBN\n",
    "# Calculated with variable corruption and constant loss = 0.\n",
    "# Calculating results using different seeds.\n",
    "rtt_corruption_01s = [0.016, 0.016, 0.018, 0.020, 0.021]\n",
    "time_corruption_01s = [0.019, 0.020, 0.021, 0.020, 0.020]\n",
    "\n",
    "rtt_corruption_02s = [0.015, 0.016, 0.017, 0.019, 0.020]\n",
    "time_corruption_02s = [0.023, 0.025, 0.026, 0.028, 0.030]\n",
    "\n",
    "rtt_corruption_03s = [0.018, 0.020, 0.022, 0.021, 0.020]\n",
    "time_corruption_03s = [0.036, 0.038, 0.040, 0.039, 0.039]\n",
    "\n",
    "rtt_corruption_04s = [0.017, 0.020, 0.022, 0.020, 0.021]\n",
    "time_corruption_04s = [0.045, 0.046, 0.047, 0.048, 0.049]\n",
    "\n",
    "rtt_corruption_05s = [0.019, 0.020, 0.021, 0.022, 0.022]\n",
    "time_corruption_05s = [0.063, 0.065, 0.067, 0.069, 0.065]\n",
    "\n",
    "rtt_means = [np.mean(rtt_corruption_01s), np.mean(rtt_corruption_02s), np.mean(rtt_corruption_03s), np.mean(rtt_corruption_04s), np.mean(rtt_corruption_05s)]\n",
    "rtt_sds = [np.std(rtt_corruption_01s), np.std(rtt_corruption_02s), np.std(rtt_corruption_03s), np.std(rtt_corruption_04s), np.std(rtt_corruption_05s)]\n",
    "rtt_ci = st.norm.interval(alpha=0.9, loc=np.mean(rtt_means), scale=st.sem(rtt_means))\n",
    "\n",
    "time_means = [np.mean(time_corruption_01s), np.mean(time_corruption_02s), np.mean(time_corruption_03s), np.mean(time_corruption_04s), np.mean(time_corruption_05s)]\n",
    "time_sds = [np.std(time_corruption_01s), np.std(time_corruption_02s), np.std(time_corruption_03s), np.std(time_corruption_04s), np.std(time_corruption_05s)]\n",
    "time_ci = st.norm.interval(alpha=0.9, loc=np.mean(time_means), scale=st.sem(time_means))"
   ]
  },
  {
   "cell_type": "code",
   "execution_count": null,
   "metadata": {},
   "outputs": [],
   "source": [
    "plt.title(\"RTT against Corruption for GBN\")\n",
    "plt.ylabel(\"RTT (ms)\")\n",
    "plt.xlabel(\"Corruption (percentage)\")\n",
    "plt.errorbar(corruption, rtt_means, rtt_sds, marker=\"^\")\n",
    "plt.fill_between(corruption, rtt_ci[0], rtt_ci[1], color='b', alpha=.1)\n",
    "plt.show()"
   ]
  },
  {
   "cell_type": "code",
   "execution_count": null,
   "metadata": {},
   "outputs": [],
   "source": [
    "plt.title(\"Communication Time against Corruption for GBN\")\n",
    "plt.ylabel(\"Communication Time (ms)\")\n",
    "plt.xlabel(\"Corruption (percentage)\")\n",
    "plt.errorbar(corruption, time_means, time_sds, marker=\"^\")\n",
    "plt.fill_between(corruption, time_ci[0], time_ci[1], color='b', alpha=.1)\n",
    "plt.show()"
   ]
  }
 ],
 "metadata": {
  "kernelspec": {
   "display_name": "Python 3 (ipykernel)",
   "language": "python",
   "name": "python3"
  },
  "language_info": {
   "codemirror_mode": {
    "name": "ipython",
    "version": 3
   },
   "file_extension": ".py",
   "mimetype": "text/x-python",
   "name": "python",
   "nbconvert_exporter": "python",
   "pygments_lexer": "ipython3",
   "version": "3.8.3"
  }
 },
 "nbformat": 4,
 "nbformat_minor": 2
}
